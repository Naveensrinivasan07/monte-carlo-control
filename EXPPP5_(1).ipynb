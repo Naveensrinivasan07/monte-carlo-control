{
  "nbformat": 4,
  "nbformat_minor": 0,
  "metadata": {
    "colab": {
      "provenance": []
    },
    "kernelspec": {
      "name": "python3",
      "display_name": "Python 3"
    },
    "language_info": {
      "name": "python"
    }
  },
  "cells": [
    {
      "cell_type": "code",
      "execution_count": 1,
      "metadata": {
        "id": "-e0tABucoZvt",
        "colab": {
          "base_uri": "https://localhost:8080/"
        },
        "outputId": "1bbb0278-8928-4935-8d60-da54d0096d16"
      },
      "outputs": [
        {
          "output_type": "stream",
          "name": "stderr",
          "text": [
            "Gym has been unmaintained since 2022 and does not support NumPy 2.0 amongst other critical functionality.\n",
            "Please upgrade to Gymnasium, the maintained drop-in replacement of Gym, or contact the authors of your software and request that they upgrade.\n",
            "See the migration guide at https://gymnasium.farama.org/introduction/migration_guide/ for additional information.\n"
          ]
        }
      ],
      "source": [
        "import warnings ; warnings.filterwarnings('ignore')\n",
        "\n",
        "import gym\n",
        "import numpy as np\n",
        "\n",
        "import random\n",
        "import warnings\n",
        "\n",
        "warnings.filterwarnings('ignore', category=DeprecationWarning)\n",
        "np.set_printoptions(suppress=True)\n",
        "random.seed(123); np.random.seed(123)"
      ]
    },
    {
      "cell_type": "code",
      "source": [
        "pip install git+https://github.com/mimoralea/gym-walk #egg=gym-walk"
      ],
      "metadata": {
        "colab": {
          "base_uri": "https://localhost:8080/"
        },
        "id": "luarJcWiommf",
        "outputId": "4a159d65-386e-49bb-a206-93224e3486d3"
      },
      "execution_count": 2,
      "outputs": [
        {
          "output_type": "stream",
          "name": "stdout",
          "text": [
            "Collecting git+https://github.com/mimoralea/gym-walk\n",
            "  Cloning https://github.com/mimoralea/gym-walk to /tmp/pip-req-build-ucjpl8t9\n",
            "  Running command git clone --filter=blob:none --quiet https://github.com/mimoralea/gym-walk /tmp/pip-req-build-ucjpl8t9\n",
            "  Resolved https://github.com/mimoralea/gym-walk to commit b915b94cf2ad16f8833a1ad92ea94e88159279f5\n",
            "  Preparing metadata (setup.py) ... \u001b[?25l\u001b[?25hdone\n",
            "Requirement already satisfied: gym in /usr/local/lib/python3.12/dist-packages (from gym_walk==0.0.2) (0.25.2)\n",
            "Requirement already satisfied: numpy>=1.18.0 in /usr/local/lib/python3.12/dist-packages (from gym->gym_walk==0.0.2) (2.0.2)\n",
            "Requirement already satisfied: cloudpickle>=1.2.0 in /usr/local/lib/python3.12/dist-packages (from gym->gym_walk==0.0.2) (3.1.1)\n",
            "Requirement already satisfied: gym-notices>=0.0.4 in /usr/local/lib/python3.12/dist-packages (from gym->gym_walk==0.0.2) (0.1.0)\n",
            "Building wheels for collected packages: gym_walk\n",
            "  Building wheel for gym_walk (setup.py) ... \u001b[?25l\u001b[?25hdone\n",
            "  Created wheel for gym_walk: filename=gym_walk-0.0.2-py3-none-any.whl size=5377 sha256=54f69065b283301b80fe67be95f3bf0a6f2e7bf913c9704636353655858a90e8\n",
            "  Stored in directory: /tmp/pip-ephem-wheel-cache-dw2uozfz/wheels/bf/23/e5/a94be4a90dd18f7ce958c21f192276cb01ef0daaf2bc66583b\n",
            "Successfully built gym_walk\n",
            "Installing collected packages: gym_walk\n",
            "Successfully installed gym_walk-0.0.2\n"
          ]
        }
      ]
    },
    {
      "cell_type": "code",
      "source": [
        "def mean_return(env, pi, n_episodes=100, max_steps=200):\n",
        "    import random\n",
        "    import numpy as np\n",
        "\n",
        "    random.seed(123)\n",
        "    np.random.seed(123)\n",
        "    env.seed(123)\n",
        "\n",
        "    results = []\n",
        "    for _ in range(n_episodes):\n",
        "        state, done, steps = env.reset(), False, 0\n",
        "        total_return = 0.0\n",
        "        while not done and steps < max_steps:\n",
        "            action = pi[state]\n",
        "            state, reward, done, _ = env.step(action)\n",
        "            total_return += reward\n",
        "            steps += 1\n",
        "        results.append(total_return)\n",
        "\n",
        "    return np.mean(results)\n"
      ],
      "metadata": {
        "id": "XSLWyd4eJpIt"
      },
      "execution_count": 3,
      "outputs": []
    },
    {
      "cell_type": "code",
      "source": [
        "def probability_success(env, pi, goal_state, n_episodes=100, max_steps=200):\n",
        "    import random\n",
        "    import numpy as np\n",
        "\n",
        "    random.seed(123)\n",
        "    np.random.seed(123)\n",
        "    env.seed(123)\n",
        "\n",
        "    results = []\n",
        "    for _ in range(n_episodes):\n",
        "        state, done, steps = env.reset(), False, 0\n",
        "        while not done and steps < max_steps:\n",
        "            action = pi[state]\n",
        "            state, _, done, _ = env.step(action)\n",
        "            steps += 1\n",
        "        results.append(state == goal_state)\n",
        "\n",
        "    return np.mean(results)"
      ],
      "metadata": {
        "id": "qEvvxED7JrUw"
      },
      "execution_count": 4,
      "outputs": []
    },
    {
      "cell_type": "code",
      "source": [
        "def print_policy(pi, P, action_symbols=('<', 'v', '>', '^'), n_cols=4, title='Policy:'):\n",
        "    print(title)\n",
        "    arrs = {k:v for k,v in enumerate(action_symbols)}\n",
        "    for s in range(len(P)):\n",
        "        a = pi[s]\n",
        "        print(\"| \", end=\"\")\n",
        "        if np.all([done for action in P[s].values() for _, _, _, done in action]):\n",
        "            print(\"\".rjust(9), end=\" \")\n",
        "        else:\n",
        "            print(str(s).zfill(2), arrs[a].rjust(6), end=\" \")\n",
        "        if (s + 1) % n_cols == 0: print(\"|\")"
      ],
      "metadata": {
        "id": "9sBBcPEvor7V"
      },
      "execution_count": 5,
      "outputs": []
    },
    {
      "cell_type": "code",
      "source": [
        "def print_state_value_function(V, P, n_cols=4, prec=3, title='State-value function:'):\n",
        "    print(title)\n",
        "    for s in range(len(P)):\n",
        "        v = V[s]\n",
        "        print(\"| \", end=\"\")\n",
        "        if np.all([done for action in P[s].values() for _, _, _, done in action]):\n",
        "            print(\"\".rjust(9), end=\" \")\n",
        "        else:\n",
        "            print(str(s).zfill(2), '{}'.format(np.round(v, prec)).rjust(6), end=\" \")\n",
        "        if (s + 1) % n_cols == 0: print(\"|\")"
      ],
      "metadata": {
        "id": "30IAA2F0ozKV"
      },
      "execution_count": 6,
      "outputs": []
    },
    {
      "cell_type": "code",
      "source": [
        "env = gym.make('FrozenLake-v1',is_slippery=False)\n",
        "P = env.env.P\n",
        "init_state = env.reset()\n",
        "goal_state = 15\n",
        "LEFT, RIGHT = range(2)"
      ],
      "metadata": {
        "id": "evxn5wU_o3Fl"
      },
      "execution_count": 7,
      "outputs": []
    },
    {
      "cell_type": "code",
      "source": [
        "P"
      ],
      "metadata": {
        "colab": {
          "base_uri": "https://localhost:8080/"
        },
        "id": "OuWXgs0GpJ68",
        "outputId": "c89c0dcf-01cd-4d2d-97c9-e96a54e87c5c"
      },
      "execution_count": 8,
      "outputs": [
        {
          "output_type": "execute_result",
          "data": {
            "text/plain": [
              "{0: {0: [(1.0, 0, 0.0, False)],\n",
              "  1: [(1.0, 4, 0.0, False)],\n",
              "  2: [(1.0, 1, 0.0, False)],\n",
              "  3: [(1.0, 0, 0.0, False)]},\n",
              " 1: {0: [(1.0, 0, 0.0, False)],\n",
              "  1: [(1.0, 5, 0.0, True)],\n",
              "  2: [(1.0, 2, 0.0, False)],\n",
              "  3: [(1.0, 1, 0.0, False)]},\n",
              " 2: {0: [(1.0, 1, 0.0, False)],\n",
              "  1: [(1.0, 6, 0.0, False)],\n",
              "  2: [(1.0, 3, 0.0, False)],\n",
              "  3: [(1.0, 2, 0.0, False)]},\n",
              " 3: {0: [(1.0, 2, 0.0, False)],\n",
              "  1: [(1.0, 7, 0.0, True)],\n",
              "  2: [(1.0, 3, 0.0, False)],\n",
              "  3: [(1.0, 3, 0.0, False)]},\n",
              " 4: {0: [(1.0, 4, 0.0, False)],\n",
              "  1: [(1.0, 8, 0.0, False)],\n",
              "  2: [(1.0, 5, 0.0, True)],\n",
              "  3: [(1.0, 0, 0.0, False)]},\n",
              " 5: {0: [(1.0, 5, 0, True)],\n",
              "  1: [(1.0, 5, 0, True)],\n",
              "  2: [(1.0, 5, 0, True)],\n",
              "  3: [(1.0, 5, 0, True)]},\n",
              " 6: {0: [(1.0, 5, 0.0, True)],\n",
              "  1: [(1.0, 10, 0.0, False)],\n",
              "  2: [(1.0, 7, 0.0, True)],\n",
              "  3: [(1.0, 2, 0.0, False)]},\n",
              " 7: {0: [(1.0, 7, 0, True)],\n",
              "  1: [(1.0, 7, 0, True)],\n",
              "  2: [(1.0, 7, 0, True)],\n",
              "  3: [(1.0, 7, 0, True)]},\n",
              " 8: {0: [(1.0, 8, 0.0, False)],\n",
              "  1: [(1.0, 12, 0.0, True)],\n",
              "  2: [(1.0, 9, 0.0, False)],\n",
              "  3: [(1.0, 4, 0.0, False)]},\n",
              " 9: {0: [(1.0, 8, 0.0, False)],\n",
              "  1: [(1.0, 13, 0.0, False)],\n",
              "  2: [(1.0, 10, 0.0, False)],\n",
              "  3: [(1.0, 5, 0.0, True)]},\n",
              " 10: {0: [(1.0, 9, 0.0, False)],\n",
              "  1: [(1.0, 14, 0.0, False)],\n",
              "  2: [(1.0, 11, 0.0, True)],\n",
              "  3: [(1.0, 6, 0.0, False)]},\n",
              " 11: {0: [(1.0, 11, 0, True)],\n",
              "  1: [(1.0, 11, 0, True)],\n",
              "  2: [(1.0, 11, 0, True)],\n",
              "  3: [(1.0, 11, 0, True)]},\n",
              " 12: {0: [(1.0, 12, 0, True)],\n",
              "  1: [(1.0, 12, 0, True)],\n",
              "  2: [(1.0, 12, 0, True)],\n",
              "  3: [(1.0, 12, 0, True)]},\n",
              " 13: {0: [(1.0, 12, 0.0, True)],\n",
              "  1: [(1.0, 13, 0.0, False)],\n",
              "  2: [(1.0, 14, 0.0, False)],\n",
              "  3: [(1.0, 9, 0.0, False)]},\n",
              " 14: {0: [(1.0, 13, 0.0, False)],\n",
              "  1: [(1.0, 14, 0.0, False)],\n",
              "  2: [(1.0, 15, 1.0, True)],\n",
              "  3: [(1.0, 10, 0.0, False)]},\n",
              " 15: {0: [(1.0, 15, 0, True)],\n",
              "  1: [(1.0, 15, 0, True)],\n",
              "  2: [(1.0, 15, 0, True)],\n",
              "  3: [(1.0, 15, 0, True)]}}"
            ]
          },
          "metadata": {},
          "execution_count": 8
        }
      ]
    },
    {
      "cell_type": "markdown",
      "source": [
        "**Exponentially decaying schedule**"
      ],
      "metadata": {
        "id": "7L0rLuVxp1FU"
      }
    },
    {
      "cell_type": "code",
      "source": [
        "def decay_schedule(\n",
        "    init_value, min_value, decay_ratio,\n",
        "    max_steps, log_start = -2, log_base=10):\n",
        "\n",
        "    decay_steps = int(max_steps * decay_ratio)\n",
        "    rem_steps = max_steps - decay_steps\n",
        "\n",
        "    values = np.logspace(\n",
        "        log_start, 0, decay_steps,\n",
        "        base=log_base, endpoint=True)[::-1]\n",
        "\n",
        "    values = (values - values.min()) / (values.max() - values.min())\n",
        "    values = (init_value - min_value) * values + min_value\n",
        "    values = np.pad(values, (0, rem_steps), 'edge')\n",
        "    return values"
      ],
      "metadata": {
        "id": "MtaTHUampf5c"
      },
      "execution_count": 9,
      "outputs": []
    },
    {
      "cell_type": "markdown",
      "source": [
        "**Exploratory Policy Trajectories**"
      ],
      "metadata": {
        "id": "ettZ2uM8rFkT"
      }
    },
    {
      "cell_type": "code",
      "source": [
        "from itertools import count\n",
        "import numpy as np\n",
        "from tqdm import tqdm\n",
        "\n",
        "\n",
        "def generate_trajectory(\n",
        "    select_action, Q, epsilon,\n",
        "    env, max_steps=200):\n",
        "  done, trajectory = False, []\n",
        "\n",
        "  while not done:\n",
        "        state = env.reset()\n",
        "        for t in count():\n",
        "            action = select_action(state, Q, epsilon)\n",
        "\n",
        "            next_state, reward, done, _ = env.step(action)\n",
        "\n",
        "            experience = (state, action, reward, next_state, done)\n",
        "            trajectory.append(experience)\n",
        "            if done:\n",
        "                break\n",
        "            if t >= max_steps - 1:\n",
        "                trajectory = []\n",
        "                break\n",
        "            state = next_state\n",
        "  return np.array(trajectory,object)"
      ],
      "metadata": {
        "id": "LPxOPOaNqAmW"
      },
      "execution_count": 10,
      "outputs": []
    },
    {
      "cell_type": "markdown",
      "source": [
        "**Monte Carlo control**"
      ],
      "metadata": {
        "id": "BeUO0XiTsVsS"
      }
    },
    {
      "cell_type": "code",
      "source": [
        "def mc_control(env,\n",
        "               gamma=1.0,\n",
        "               init_alpha=0.5,\n",
        "               min_alpha=0.01,\n",
        "               alpha_decay_ratio=0.5,\n",
        "               init_epsilon=1.0,\n",
        "               min_epsilon=0.1,\n",
        "               epsilon_decay_ratio=0.9,\n",
        "               n_episodes=3000,\n",
        "               max_steps=200,\n",
        "               first_visit=True):\n",
        "\n",
        "    nS, nA = env.observation_space.n, env.action_space.n\n",
        "\n",
        "    discounts = np.logspace(\n",
        "        0, max_steps,\n",
        "        num=max_steps, base=gamma,\n",
        "        endpoint=False)\n",
        "\n",
        "    alphas = decay_schedule(\n",
        "        init_alpha, min_alpha,\n",
        "        alpha_decay_ratio,\n",
        "        n_episodes)\n",
        "\n",
        "    epsilons = decay_schedule(\n",
        "        init_epsilon, min_epsilon,\n",
        "        epsilon_decay_ratio,\n",
        "        n_episodes)\n",
        "\n",
        "    pi_track = []\n",
        "    Q = np.zeros((nS, nA), dtype=np.float64)\n",
        "    Q_track = np.zeros((n_episodes, nS, nA), dtype=np.float64)\n",
        "\n",
        "    select_action = lambda state, Q, epsilon:np.argmax(Q[state]) if np.random.random() > epsilon else np.random.randint(len(Q[state]))\n",
        "\n",
        "    for e in tqdm(range(n_episodes), leave=False):\n",
        "        trajectory = generate_trajectory(select_action, Q, epsilons[e], env, max_steps)\n",
        "        visited = np.zeros((nS, nA), dtype=bool)\n",
        "\n",
        "        for t, (state, action, reward, _, _) in enumerate(trajectory):\n",
        "            if visited[state][action] and first_visit:\n",
        "                continue\n",
        "            visited[state][action] = True\n",
        "\n",
        "            n_steps = len(trajectory[t:])\n",
        "            G = np.sum(discounts[:n_steps] * trajectory[t:, 2])\n",
        "            Q[state][action] = Q[state][action] + alphas[e] * (G - Q[state][action])\n",
        "\n",
        "        Q_track[e] = Q\n",
        "        pi_track.append(np.argmax(Q, axis=1))\n",
        "\n",
        "    v = np.max(Q, axis=1)\n",
        "    pi = np.argmax(Q, axis=1)\n",
        "    return Q, v, pi, Q_track, pi_track"
      ],
      "metadata": {
        "id": "ceQ6sOpksUY5"
      },
      "execution_count": 11,
      "outputs": []
    },
    {
      "cell_type": "code",
      "source": [
        "optimal_results = mc_control(env, n_episodes=3000)\n",
        "optimal_Q, optimal_V, optimal_pi, _, _ = optimal_results\n",
        "print(\"\\nName: NAVEEN\")\n",
        "print(\"Reg.No: 212222240070\\n\")\n",
        "print_state_value_function(optimal_V, P, n_cols=4, prec=2, title='Action-value function:')\n",
        "print()\n",
        "print_state_value_function(optimal_V, P, n_cols=4, prec=2, title='State-value function:')\n",
        "print()\n",
        "print_policy(optimal_pi, P)\n",
        "print()\n",
        "print('Reaches goal {:.2f}%. Obtains an average undiscounted return of {:.4f}.'.format(\n",
        "    probability_success(env, optimal_pi, goal_state=goal_state)*100,\n",
        "    mean_return(env, optimal_pi)))"
      ],
      "metadata": {
        "colab": {
          "base_uri": "https://localhost:8080/"
        },
        "id": "jVtZSrIBuMAP",
        "outputId": "9bb5ec0b-0a34-4f0c-8779-a6a361244c35"
      },
      "execution_count": 13,
      "outputs": [
        {
          "output_type": "stream",
          "name": "stderr",
          "text": [
            "                                                     "
          ]
        },
        {
          "output_type": "stream",
          "name": "stdout",
          "text": [
            "\n",
            "Name: NAVEEN\n",
            "Reg.No: 212222240070\n",
            "\n",
            "Action-value function:\n",
            "| 00    0.9 | 01    0.8 | 02   0.62 | 03    0.2 |\n",
            "| 04   0.92 |           | 06   0.82 |           |\n",
            "| 08   0.95 | 09   0.97 | 10   0.99 |           |\n",
            "|           | 13    1.0 | 14    1.0 |           |\n",
            "\n",
            "State-value function:\n",
            "| 00    0.9 | 01    0.8 | 02   0.62 | 03    0.2 |\n",
            "| 04   0.92 |           | 06   0.82 |           |\n",
            "| 08   0.95 | 09   0.97 | 10   0.99 |           |\n",
            "|           | 13    1.0 | 14    1.0 |           |\n",
            "\n",
            "Policy:\n",
            "| 00      v | 01      < | 02      v | 03      > |\n",
            "| 04      v |           | 06      v |           |\n",
            "| 08      > | 09      v | 10      v |           |\n",
            "|           | 13      > | 14      > |           |\n",
            "\n",
            "Reaches goal 100.00%. Obtains an average undiscounted return of 1.0000.\n"
          ]
        },
        {
          "output_type": "stream",
          "name": "stderr",
          "text": [
            "\r"
          ]
        }
      ]
    }
  ]
}